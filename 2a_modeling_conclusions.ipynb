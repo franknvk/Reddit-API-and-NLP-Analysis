{
 "cells": [
  {
   "cell_type": "code",
   "execution_count": 13,
   "metadata": {},
   "outputs": [],
   "source": [
    "import numpy as np\n",
    "import pandas as pd\n",
    "import matplotlib.pyplot as plt\n",
    "import seaborn as sns\n",
    "\n",
    "from sklearn.linear_model import LogisticRegression\n",
    "from sklearn.neighbors import KNeighborsClassifier\n",
    "from sklearn.ensemble import RandomForestClassifier\n",
    "from sklearn.model_selection import train_test_split, GridSearchCV\n",
    "from sklearn.naive_bayes import MultinomialNB\n",
    "from sklearn.pipeline import Pipeline\n",
    "from sklearn.compose import make_column_transformer\n",
    "from sklearn.preprocessing import StandardScaler\n",
    "from sklearn.metrics import confusion_matrix, plot_confusion_matrix\n",
    "from xgboost import XGBClassifier\n",
    "\n",
    "import nltk\n",
    "from sklearn.feature_extraction.text import TfidfVectorizer"
   ]
  },
  {
   "cell_type": "code",
   "execution_count": 12,
   "metadata": {},
   "outputs": [],
   "source": [
    "text_df = pd.read_csv('./data/preproccessed_data.csv',index_col = 'Unnamed: 0')"
   ]
  },
  {
   "cell_type": "code",
   "execution_count": 15,
   "metadata": {},
   "outputs": [
    {
     "data": {
      "text/html": [
       "<div>\n",
       "<style scoped>\n",
       "    .dataframe tbody tr th:only-of-type {\n",
       "        vertical-align: middle;\n",
       "    }\n",
       "\n",
       "    .dataframe tbody tr th {\n",
       "        vertical-align: top;\n",
       "    }\n",
       "\n",
       "    .dataframe thead th {\n",
       "        text-align: right;\n",
       "    }\n",
       "</style>\n",
       "<table border=\"1\" class=\"dataframe\">\n",
       "  <thead>\n",
       "    <tr style=\"text-align: right;\">\n",
       "      <th></th>\n",
       "      <th>post_length</th>\n",
       "      <th>text</th>\n",
       "      <th>target</th>\n",
       "      <th>neg</th>\n",
       "      <th>pos</th>\n",
       "      <th>neu</th>\n",
       "      <th>compound</th>\n",
       "      <th>lemma_text</th>\n",
       "    </tr>\n",
       "  </thead>\n",
       "  <tbody>\n",
       "    <tr>\n",
       "      <th>0</th>\n",
       "      <td>708</td>\n",
       "      <td>In Simulacra and Simulation Chapter 1 *Moebius...</td>\n",
       "      <td>1</td>\n",
       "      <td>0.090</td>\n",
       "      <td>0.076</td>\n",
       "      <td>0.834</td>\n",
       "      <td>-0.5913</td>\n",
       "      <td>in simulacrum and simulation chapter 1 moebius...</td>\n",
       "    </tr>\n",
       "    <tr>\n",
       "      <th>1</th>\n",
       "      <td>175</td>\n",
       "      <td>Surely in just a absurd world like ours escapi...</td>\n",
       "      <td>1</td>\n",
       "      <td>0.046</td>\n",
       "      <td>0.179</td>\n",
       "      <td>0.775</td>\n",
       "      <td>0.9774</td>\n",
       "      <td>surely in just a absurd world like ours escape...</td>\n",
       "    </tr>\n",
       "    <tr>\n",
       "      <th>3</th>\n",
       "      <td>82</td>\n",
       "      <td>Of course not just physically, but what makes ...</td>\n",
       "      <td>1</td>\n",
       "      <td>0.000</td>\n",
       "      <td>0.042</td>\n",
       "      <td>0.958</td>\n",
       "      <td>0.8397</td>\n",
       "      <td>of course not just physically but what make on...</td>\n",
       "    </tr>\n",
       "    <tr>\n",
       "      <th>4</th>\n",
       "      <td>1235</td>\n",
       "      <td>I consider myself an agnostic right now. I am ...</td>\n",
       "      <td>1</td>\n",
       "      <td>0.308</td>\n",
       "      <td>0.083</td>\n",
       "      <td>0.609</td>\n",
       "      <td>-0.9410</td>\n",
       "      <td>i consider myself an agnostic right now i be a...</td>\n",
       "    </tr>\n",
       "    <tr>\n",
       "      <th>5</th>\n",
       "      <td>2033</td>\n",
       "      <td>Hello! I am currently working on a term paper ...</td>\n",
       "      <td>1</td>\n",
       "      <td>0.025</td>\n",
       "      <td>0.165</td>\n",
       "      <td>0.810</td>\n",
       "      <td>0.9879</td>\n",
       "      <td>hello i be currently work on a term paper for ...</td>\n",
       "    </tr>\n",
       "  </tbody>\n",
       "</table>\n",
       "</div>"
      ],
      "text/plain": [
       "   post_length                                               text  target  \\\n",
       "0          708  In Simulacra and Simulation Chapter 1 *Moebius...       1   \n",
       "1          175  Surely in just a absurd world like ours escapi...       1   \n",
       "3           82  Of course not just physically, but what makes ...       1   \n",
       "4         1235  I consider myself an agnostic right now. I am ...       1   \n",
       "5         2033  Hello! I am currently working on a term paper ...       1   \n",
       "\n",
       "     neg    pos    neu  compound  \\\n",
       "0  0.090  0.076  0.834   -0.5913   \n",
       "1  0.046  0.179  0.775    0.9774   \n",
       "3  0.000  0.042  0.958    0.8397   \n",
       "4  0.308  0.083  0.609   -0.9410   \n",
       "5  0.025  0.165  0.810    0.9879   \n",
       "\n",
       "                                          lemma_text  \n",
       "0  in simulacrum and simulation chapter 1 moebius...  \n",
       "1  surely in just a absurd world like ours escape...  \n",
       "3  of course not just physically but what make on...  \n",
       "4  i consider myself an agnostic right now i be a...  \n",
       "5  hello i be currently work on a term paper for ...  "
      ]
     },
     "execution_count": 15,
     "metadata": {},
     "output_type": "execute_result"
    }
   ],
   "source": [
    "text_df.head()"
   ]
  },
  {
   "cell_type": "markdown",
   "metadata": {},
   "source": [
    "# Train Test Split"
   ]
  },
  {
   "cell_type": "code",
   "execution_count": 4,
   "metadata": {},
   "outputs": [],
   "source": [
    "X = text_df.drop(columns = ['target','text'])\n",
    "y = text_df['target']"
   ]
  },
  {
   "cell_type": "code",
   "execution_count": 5,
   "metadata": {},
   "outputs": [
    {
     "data": {
      "text/html": [
       "<div>\n",
       "<style scoped>\n",
       "    .dataframe tbody tr th:only-of-type {\n",
       "        vertical-align: middle;\n",
       "    }\n",
       "\n",
       "    .dataframe tbody tr th {\n",
       "        vertical-align: top;\n",
       "    }\n",
       "\n",
       "    .dataframe thead th {\n",
       "        text-align: right;\n",
       "    }\n",
       "</style>\n",
       "<table border=\"1\" class=\"dataframe\">\n",
       "  <thead>\n",
       "    <tr style=\"text-align: right;\">\n",
       "      <th></th>\n",
       "      <th>post_length</th>\n",
       "      <th>neg</th>\n",
       "      <th>pos</th>\n",
       "      <th>neu</th>\n",
       "      <th>compound</th>\n",
       "      <th>lemma_text</th>\n",
       "    </tr>\n",
       "  </thead>\n",
       "  <tbody>\n",
       "    <tr>\n",
       "      <th>5173</th>\n",
       "      <td>3528</td>\n",
       "      <td>0.081</td>\n",
       "      <td>0.093</td>\n",
       "      <td>0.826</td>\n",
       "      <td>0.9184</td>\n",
       "      <td>what an experience i just want to preface by s...</td>\n",
       "    </tr>\n",
       "    <tr>\n",
       "      <th>362</th>\n",
       "      <td>179</td>\n",
       "      <td>0.197</td>\n",
       "      <td>0.084</td>\n",
       "      <td>0.719</td>\n",
       "      <td>-0.5994</td>\n",
       "      <td>this be my first time do a soul bomb dealer qu...</td>\n",
       "    </tr>\n",
       "    <tr>\n",
       "      <th>2457</th>\n",
       "      <td>4356</td>\n",
       "      <td>0.082</td>\n",
       "      <td>0.051</td>\n",
       "      <td>0.867</td>\n",
       "      <td>-0.9766</td>\n",
       "      <td>firstly let me point out a few thing that i di...</td>\n",
       "    </tr>\n",
       "    <tr>\n",
       "      <th>5003</th>\n",
       "      <td>33</td>\n",
       "      <td>0.099</td>\n",
       "      <td>0.142</td>\n",
       "      <td>0.759</td>\n",
       "      <td>0.9360</td>\n",
       "      <td>and if you disagree with it why opinion on dua...</td>\n",
       "    </tr>\n",
       "    <tr>\n",
       "      <th>1827</th>\n",
       "      <td>189</td>\n",
       "      <td>0.000</td>\n",
       "      <td>0.279</td>\n",
       "      <td>0.721</td>\n",
       "      <td>0.9176</td>\n",
       "      <td>i love philosophy and i would like to hear abo...</td>\n",
       "    </tr>\n",
       "    <tr>\n",
       "      <th>...</th>\n",
       "      <td>...</td>\n",
       "      <td>...</td>\n",
       "      <td>...</td>\n",
       "      <td>...</td>\n",
       "      <td>...</td>\n",
       "      <td>...</td>\n",
       "    </tr>\n",
       "    <tr>\n",
       "      <th>502</th>\n",
       "      <td>190</td>\n",
       "      <td>0.078</td>\n",
       "      <td>0.073</td>\n",
       "      <td>0.849</td>\n",
       "      <td>-0.3032</td>\n",
       "      <td>i feel like there be a part of myself that i n...</td>\n",
       "    </tr>\n",
       "    <tr>\n",
       "      <th>1811</th>\n",
       "      <td>291</td>\n",
       "      <td>0.040</td>\n",
       "      <td>0.223</td>\n",
       "      <td>0.737</td>\n",
       "      <td>0.9337</td>\n",
       "      <td>i be write an article on the thinker of the en...</td>\n",
       "    </tr>\n",
       "    <tr>\n",
       "      <th>10421</th>\n",
       "      <td>859</td>\n",
       "      <td>0.000</td>\n",
       "      <td>0.040</td>\n",
       "      <td>0.960</td>\n",
       "      <td>0.6641</td>\n",
       "      <td>i be read the ego tunnel by thomas metzinger a...</td>\n",
       "    </tr>\n",
       "    <tr>\n",
       "      <th>8155</th>\n",
       "      <td>1379</td>\n",
       "      <td>0.041</td>\n",
       "      <td>0.107</td>\n",
       "      <td>0.853</td>\n",
       "      <td>0.9466</td>\n",
       "      <td>figure i would post this because it be be nag ...</td>\n",
       "    </tr>\n",
       "    <tr>\n",
       "      <th>9434</th>\n",
       "      <td>957</td>\n",
       "      <td>0.000</td>\n",
       "      <td>0.162</td>\n",
       "      <td>0.838</td>\n",
       "      <td>0.7500</td>\n",
       "      <td>i want to write my final paper on the mind bod...</td>\n",
       "    </tr>\n",
       "  </tbody>\n",
       "</table>\n",
       "<p>12126 rows × 6 columns</p>\n",
       "</div>"
      ],
      "text/plain": [
       "       post_length    neg    pos    neu  compound  \\\n",
       "5173          3528  0.081  0.093  0.826    0.9184   \n",
       "362            179  0.197  0.084  0.719   -0.5994   \n",
       "2457          4356  0.082  0.051  0.867   -0.9766   \n",
       "5003            33  0.099  0.142  0.759    0.9360   \n",
       "1827           189  0.000  0.279  0.721    0.9176   \n",
       "...            ...    ...    ...    ...       ...   \n",
       "502            190  0.078  0.073  0.849   -0.3032   \n",
       "1811           291  0.040  0.223  0.737    0.9337   \n",
       "10421          859  0.000  0.040  0.960    0.6641   \n",
       "8155          1379  0.041  0.107  0.853    0.9466   \n",
       "9434           957  0.000  0.162  0.838    0.7500   \n",
       "\n",
       "                                              lemma_text  \n",
       "5173   what an experience i just want to preface by s...  \n",
       "362    this be my first time do a soul bomb dealer qu...  \n",
       "2457   firstly let me point out a few thing that i di...  \n",
       "5003   and if you disagree with it why opinion on dua...  \n",
       "1827   i love philosophy and i would like to hear abo...  \n",
       "...                                                  ...  \n",
       "502    i feel like there be a part of myself that i n...  \n",
       "1811   i be write an article on the thinker of the en...  \n",
       "10421  i be read the ego tunnel by thomas metzinger a...  \n",
       "8155   figure i would post this because it be be nag ...  \n",
       "9434   i want to write my final paper on the mind bod...  \n",
       "\n",
       "[12126 rows x 6 columns]"
      ]
     },
     "execution_count": 5,
     "metadata": {},
     "output_type": "execute_result"
    }
   ],
   "source": [
    "X_train,X_test,y_train,y_test = train_test_split(X,y,stratify=y)\n",
    "X_train"
   ]
  },
  {
   "cell_type": "markdown",
   "metadata": {},
   "source": [
    "# Modeling "
   ]
  },
  {
   "cell_type": "markdown",
   "metadata": {},
   "source": [
    "For modeling, there were 5 separate models, with specific parameters GridSearched, to offer a variety of algorithms to the data. TfidfVectorizer was used within the GridSearch in order to remove common words found between both subreddits by optimizing the max_features and max_df parameters. Standard Scaler was also used when needed. First, the baseline accuracy is calculated to compare the models. Accuracy was the metric of choice since false positives or false negatives did not impact the over purpose of the model. "
   ]
  },
  {
   "cell_type": "markdown",
   "metadata": {},
   "source": [
    "### Baseline"
   ]
  },
  {
   "cell_type": "code",
   "execution_count": 532,
   "metadata": {},
   "outputs": [
    {
     "data": {
      "text/plain": [
       "1    0.566428\n",
       "0    0.433572\n",
       "Name: target, dtype: float64"
      ]
     },
     "execution_count": 532,
     "metadata": {},
     "output_type": "execute_result"
    }
   ],
   "source": [
    "#askphilosophy = 1\n",
    "#psychonaut = 0\n",
    "y.value_counts(normalize = True)"
   ]
  },
  {
   "cell_type": "markdown",
   "metadata": {},
   "source": [
    "### Mulitnomial Naive Bayes\n",
    "This model strictly used the text feature of the train and test data."
   ]
  },
  {
   "cell_type": "code",
   "execution_count": 440,
   "metadata": {},
   "outputs": [
    {
     "name": "stdout",
     "output_type": "stream",
     "text": [
      "{'mn__alpha': 0.5, 'transformer__tfidfvectorizer__max_df': 0.525, 'transformer__tfidfvectorizer__max_features': 8000}\n",
      "0.9581890153389411\n",
      "0.946561108362197\n"
     ]
    },
    {
     "data": {
      "text/plain": [
       "<sklearn.metrics._plot.confusion_matrix.ConfusionMatrixDisplay at 0x7ff3e79c8070>"
      ]
     },
     "execution_count": 440,
     "metadata": {},
     "output_type": "execute_result"
    },
    {
     "data": {
      "image/png": "[encoded data removed]",
      "text/plain": [
       "<Figure size 432x288 with 2 Axes>"
      ]
     },
     "metadata": {
      "needs_background": "light"
     },
     "output_type": "display_data"
    }
   ],
   "source": [
    "#vectorizer and model used in the grid search\n",
    "tfid = TfidfVectorizer(stop_words='english',)\n",
    "mn = MultinomialNB()\n",
    "\n",
    "#must split vectorized words and numeric data via transformer\n",
    "transformer = make_column_transformer(\n",
    "    (tfid,'lemma_text')\n",
    "    ,remainder='passthrough')\n",
    "\n",
    "#params for gridsearch\n",
    "params = {'transformer__tfidfvectorizer__max_features': [8000],\n",
    "          'transformer__tfidfvectorizer__max_df':[0.525],\n",
    "          'mn__alpha':[0,.5,1]\n",
    "         }\n",
    "#put put everthing together in a pipeline\n",
    "pipe_nb = Pipeline([\n",
    "    ('transformer',transformer),Z\n",
    "    ('mn',mn)])\n",
    "\n",
    "#run gridsearch with pipe and param grid\n",
    "grid_nb = GridSearchCV(\n",
    "    estimator=pipe_nb, \n",
    "    param_grid=params,\n",
    "    scoring='accuracy',\n",
    "    cv = 5,\n",
    "    n_jobs=-1)\n",
    "\n",
    "#fit the model to the text only data because of the MultinomialNB can't have negative numbers\n",
    "grid_nb.fit(X_train[['lemma_text']],y_train)\n",
    "\n",
    "\n",
    "#print best params,accuracy scores,and confusion matrix\n",
    "print(grid_nb.best_params_)\n",
    "print(grid_nb.score(X_train[['lemma_text']],y_train))\n",
    "print(grid_nb.score(X_test[['lemma_text']],y_test))\n",
    "plot_confusion_matrix(grid_nb,X_test[['lemma_text']],y_test,display_labels=['pyscho','philo'])"
   ]
  },
  {
   "cell_type": "markdown",
   "metadata": {},
   "source": [
    "### Logistic Regression"
   ]
  },
  {
   "cell_type": "code",
   "execution_count": 449,
   "metadata": {},
   "outputs": [
    {
     "name": "stdout",
     "output_type": "stream",
     "text": [
      "{'lr__C': 1, 'transformer__tfidfvectorizer__max_df': 0.525, 'transformer__tfidfvectorizer__max_features': 8000}\n",
      "0.971383803397658\n",
      "0.9487877288471054\n"
     ]
    },
    {
     "data": {
      "text/plain": [
       "Text(0.5, 1.0, 'Logistic Regression')"
      ]
     },
     "execution_count": 449,
     "metadata": {},
     "output_type": "execute_result"
    },
    {
     "data": {
      "image/png": "[encoded data removed]",
      "text/plain": [
       "<Figure size 432x288 with 2 Axes>"
      ]
     },
     "metadata": {
      "needs_background": "light"
     },
     "output_type": "display_data"
    }
   ],
   "source": [
    "tfid = TfidfVectorizer(stop_words='english',)\n",
    "lr = LogisticRegression(max_iter=10000,class_weight='balanced')\n",
    "ss = StandardScaler()\n",
    "\n",
    "transformer = make_column_transformer(\n",
    "    (tfid,'lemma_text')\n",
    "    ,remainder=ss)\n",
    "\n",
    "pipe_lr = Pipeline([\n",
    "    ('transformer',transformer),\n",
    "    ('lr',lr)])\n",
    "\n",
    "params = {'transformer__tfidfvectorizer__max_features':[8000],\n",
    "          'transformer__tfidfvectorizer__max_df':[0.525],\n",
    "          'lr__C':[.1,1,10],\n",
    "         }\n",
    "\n",
    "grid_lr = GridSearchCV(\n",
    "    estimator=pipe_lr, \n",
    "    param_grid=params,\n",
    "    scoring='accuracy',\n",
    "    cv = 5,\n",
    "    n_jobs=-1)\n",
    "\n",
    "grid_lr.fit(X_train,y_train)\n",
    "\n",
    "print(grid_lr.best_params_)\n",
    "print(grid_lr.score(X_train,y_train))\n",
    "print(grid_lr.score(X_test,y_test))\n",
    "plot_confusion_matrix(grid_lr,X_test,y_test,display_labels=['pyscho','philo'])\n",
    "plt.title('Logistic Regression')"
   ]
  },
  {
   "cell_type": "markdown",
   "metadata": {},
   "source": [
    "### K-Nearest Neighbors"
   ]
  },
  {
   "cell_type": "code",
   "execution_count": 420,
   "metadata": {},
   "outputs": [
    {
     "name": "stdout",
     "output_type": "stream",
     "text": [
      "{'knn__n_neighbors': 11, 'transformer__tfidfvectorizer__max_df': 0.525, 'transformer__tfidfvectorizer__max_features': 5000}\n",
      "0.8873494969487052\n",
      "0.8448787728847106\n"
     ]
    },
    {
     "data": {
      "text/plain": [
       "<sklearn.metrics._plot.confusion_matrix.ConfusionMatrixDisplay at 0x7ff3e1b93430>"
      ]
     },
     "execution_count": 420,
     "metadata": {},
     "output_type": "execute_result"
    },
    {
     "data": {
      "image/png": "[encoded data removed]",
      "text/plain": [
       "<Figure size 432x288 with 2 Axes>"
      ]
     },
     "metadata": {
      "needs_background": "light"
     },
     "output_type": "display_data"
    }
   ],
   "source": [
    "tfid = TfidfVectorizer(stop_words='english',)\n",
    "knn = KNeighborsClassifier()\n",
    "\n",
    "transformer = make_column_transformer(\n",
    "    (tfid,'lemma_text')\n",
    "    ,remainder=ss)\n",
    "\n",
    "params = {'transformer__tfidfvectorizer__max_features': [5000,6000,7000,8000,9000,10000],\n",
    "          'transformer__tfidfvectorizer__max_df': np.linspace(.1,.95,5),\n",
    "          'knn__n_neighbors':[3,5,7,9,11]\n",
    "         }\n",
    "\n",
    "\n",
    "pipe_knn = Pipeline([\n",
    "    ('transformer',transformer),\n",
    "    ('knn',knn)])\n",
    "\n",
    "grid_knn = GridSearchCV(\n",
    "    estimator=pipe_knn, \n",
    "    param_grid=params,\n",
    "    scoring='accuracy',\n",
    "    cv = 5,\n",
    "    n_jobs=-1)\n",
    "\n",
    "grid_knn.fit(X_train,y_train)\n",
    "\n",
    "print(grid_knn.best_params_)\n",
    "print(grid_knn.score(X_train,y_train))\n",
    "print(grid_knn.score(X_test,y_test))\n",
    "plot_confusion_matrix(grid_knn,X_test,y_test,display_labels=['pyscho','philo'])\n",
    "plt.title('K-Nearest Neighbors')"
   ]
  },
  {
   "cell_type": "markdown",
   "metadata": {},
   "source": [
    "### Random Forest"
   ]
  },
  {
   "cell_type": "code",
   "execution_count": 434,
   "metadata": {},
   "outputs": [
    {
     "name": "stdout",
     "output_type": "stream",
     "text": [
      "Fitting 5 folds for each of 1 candidates, totalling 5 fits\n",
      "{'rf__max_depth': 50, 'rf__n_estimators': 100, 'transformer__tfidfvectorizer__max_df': 0.3125, 'transformer__tfidfvectorizer__max_features': 3000}\n",
      "0.9840013194788059\n",
      "0.9319643740722414\n"
     ]
    },
    {
     "data": {
      "text/plain": [
       "<sklearn.metrics._plot.confusion_matrix.ConfusionMatrixDisplay at 0x7ff2eca963a0>"
      ]
     },
     "execution_count": 434,
     "metadata": {},
     "output_type": "execute_result"
    },
    {
     "data": {
      "image/png": "[encoded data removed]",
      "text/plain": [
       "<Figure size 432x288 with 2 Axes>"
      ]
     },
     "metadata": {
      "needs_background": "light"
     },
     "output_type": "display_data"
    }
   ],
   "source": [
    "tfid = TfidfVectorizer(stop_words='english',)\n",
    "rf = RandomForestClassifier()\n",
    "\n",
    "transformer = make_column_transformer(\n",
    "    (tfid,'lemma_text')\n",
    "    ,remainder='passthrough')\n",
    "\n",
    "params = {'transformer__tfidfvectorizer__max_features': [3000],\n",
    "          'transformer__tfidfvectorizer__max_df': [0.3125],\n",
    "          'rf__n_estimators':[100],\n",
    "          'rf__max_depth':[50]\n",
    "         }\n",
    "\n",
    "\n",
    "pipe_rf = Pipeline([\n",
    "    ('transformer',transformer),\n",
    "    ('rf',rf)])\n",
    "\n",
    "grid_rf = GridSearchCV(\n",
    "    estimator=pipe_rf, \n",
    "    param_grid=params,\n",
    "    scoring='accuracy',\n",
    "    cv = 5,\n",
    "    verbose=True,\n",
    "    n_jobs=-1)\n",
    "\n",
    "grid_rf.fit(X_train,y_train)\n",
    "\n",
    "print(grid_rf.best_params_)\n",
    "print(grid_rf.score(X_train,y_train))\n",
    "print(grid_rf.score(X_test,y_test))\n",
    "plot_confusion_matrix(grid_rf,X_test,y_test,display_labels=['pyscho','philo'])\n",
    "plt.title('Random Forest')"
   ]
  },
  {
   "cell_type": "markdown",
   "metadata": {},
   "source": [
    "### XGBClassifier"
   ]
  },
  {
   "cell_type": "code",
   "execution_count": 441,
   "metadata": {},
   "outputs": [
    {
     "name": "stdout",
     "output_type": "stream",
     "text": [
      "Fitting 5 folds for each of 30 candidates, totalling 150 fits\n",
      "{'transformer__tfidfvectorizer__max_df': 0.3125, 'transformer__tfidfvectorizer__max_features': 6000, 'xgb__learning_rate': 0.5, 'xgb__max_depth': 9, 'xgb__n_estimators': 15}\n",
      "0.9571994062345374\n",
      "0.9163780306778823\n"
     ]
    },
    {
     "data": {
      "text/plain": [
       "<sklearn.metrics._plot.confusion_matrix.ConfusionMatrixDisplay at 0x7ff3e2e771c0>"
      ]
     },
     "execution_count": 441,
     "metadata": {},
     "output_type": "execute_result"
    },
    {
     "data": {
      "image/png": "[encoded data removed]",
      "text/plain": [
       "<Figure size 432x288 with 2 Axes>"
      ]
     },
     "metadata": {
      "needs_background": "light"
     },
     "output_type": "display_data"
    }
   ],
   "source": [
    "tfid = TfidfVectorizer(stop_words='english',)\n",
    "xgb = XGBClassifier() \n",
    "\n",
    "transformer = make_column_transformer(\n",
    "    (tfid,'lemma_text')\n",
    "    ,remainder='passthrough')\n",
    "\n",
    "params = {'transformer__tfidfvectorizer__max_features': [5000,6000,7000,8000,9000,10000],\n",
    "          'transformer__tfidfvectorizer__max_df': np.linspace(.1,.95,5),\n",
    "          'xgb__n_estimators':[15],\n",
    "          'xgb__max_depth': [9],\n",
    "          'xgb__learning_rate':[.5]\n",
    "         }\n",
    "\n",
    "pipe_xgb = Pipeline([\n",
    "    ('transformer',transformer),\n",
    "    ('xgb',xgb)])\n",
    "\n",
    "\n",
    "grid_xgb = GridSearchCV(\n",
    "    estimator=pipe_xgb, \n",
    "    param_grid=params,\n",
    "    scoring='accuracy',\n",
    "    cv = 5,\n",
    "    verbose=True,\n",
    "    n_jobs=-1)\n",
    "\n",
    "grid_xgb.fit(X_train,y_train)\n",
    "\n",
    "print(grid_xgb.best_params_)\n",
    "print(grid_xgb.score(X_train,y_train))\n",
    "print(grid_xgb.score(X_test,y_test))\n",
    "plot_confusion_matrix(grid_xgb,X_test,y_test,display_labels=['pyscho','philo'])\n",
    "plt.title('XGBClassifier')"
   ]
  },
  {
   "cell_type": "markdown",
   "metadata": {},
   "source": [
    "# Conclusions"
   ]
  },
  {
   "cell_type": "markdown",
   "metadata": {},
   "source": [
    "Out of all the models, using gridsearch, logistic regression returned the best accuracy with no signs of overfitting the training data. To further improve the models, a more robust parameter searching function may help further improve the modeling like BayesSearch or RandomizedSearch. Increasing possible features may also help improve the accuracy. "
   ]
  },
  {
   "cell_type": "markdown",
   "metadata": {},
   "source": [
    "The feature importance shows the most influential words for predicting each subreddit. Because of the integreated pipeline and gridsearch, retriving the attributes from the transformer and model took some effort. Below is the collection of the top 20 words with the assigned coefficents from the logistic regression model. "
   ]
  },
  {
   "cell_type": "markdown",
   "metadata": {},
   "source": [
    "## askphilosophy words"
   ]
  },
  {
   "cell_type": "code",
   "execution_count": 510,
   "metadata": {},
   "outputs": [
    {
     "data": {
      "text/html": [
       "<div>\n",
       "<style scoped>\n",
       "    .dataframe tbody tr th:only-of-type {\n",
       "        vertical-align: middle;\n",
       "    }\n",
       "\n",
       "    .dataframe tbody tr th {\n",
       "        vertical-align: top;\n",
       "    }\n",
       "\n",
       "    .dataframe thead th {\n",
       "        text-align: right;\n",
       "    }\n",
       "</style>\n",
       "<table border=\"1\" class=\"dataframe\">\n",
       "  <thead>\n",
       "    <tr style=\"text-align: right;\">\n",
       "      <th></th>\n",
       "      <th>coef</th>\n",
       "      <th>log_odds</th>\n",
       "    </tr>\n",
       "    <tr>\n",
       "      <th>word</th>\n",
       "      <th></th>\n",
       "      <th></th>\n",
       "    </tr>\n",
       "  </thead>\n",
       "  <tbody>\n",
       "    <tr>\n",
       "      <th>philosophy</th>\n",
       "      <td>9.607795</td>\n",
       "      <td>14880.318821</td>\n",
       "    </tr>\n",
       "    <tr>\n",
       "      <th>philosopher</th>\n",
       "      <td>5.744352</td>\n",
       "      <td>312.420977</td>\n",
       "    </tr>\n",
       "    <tr>\n",
       "      <th>argument</th>\n",
       "      <td>5.659922</td>\n",
       "      <td>287.126206</td>\n",
       "    </tr>\n",
       "    <tr>\n",
       "      <th>philosophical</th>\n",
       "      <td>4.662506</td>\n",
       "      <td>105.901179</td>\n",
       "    </tr>\n",
       "    <tr>\n",
       "      <th>moral</th>\n",
       "      <td>3.637018</td>\n",
       "      <td>37.978407</td>\n",
       "    </tr>\n",
       "    <tr>\n",
       "      <th>question</th>\n",
       "      <td>3.359590</td>\n",
       "      <td>28.777401</td>\n",
       "    </tr>\n",
       "    <tr>\n",
       "      <th>read</th>\n",
       "      <td>3.259728</td>\n",
       "      <td>26.042452</td>\n",
       "    </tr>\n",
       "    <tr>\n",
       "      <th>example</th>\n",
       "      <td>3.215845</td>\n",
       "      <td>24.924343</td>\n",
       "    </tr>\n",
       "    <tr>\n",
       "      <th>say</th>\n",
       "      <td>3.203940</td>\n",
       "      <td>24.629381</td>\n",
       "    </tr>\n",
       "    <tr>\n",
       "      <th>theory</th>\n",
       "      <td>3.146232</td>\n",
       "      <td>23.248301</td>\n",
       "    </tr>\n",
       "    <tr>\n",
       "      <th>logic</th>\n",
       "      <td>2.943301</td>\n",
       "      <td>18.978386</td>\n",
       "    </tr>\n",
       "    <tr>\n",
       "      <th>mean</th>\n",
       "      <td>2.876624</td>\n",
       "      <td>17.754232</td>\n",
       "    </tr>\n",
       "    <tr>\n",
       "      <th>ethic</th>\n",
       "      <td>2.837960</td>\n",
       "      <td>17.080891</td>\n",
       "    </tr>\n",
       "    <tr>\n",
       "      <th>nietzsche</th>\n",
       "      <td>2.664929</td>\n",
       "      <td>14.366935</td>\n",
       "    </tr>\n",
       "    <tr>\n",
       "      <th>ethical</th>\n",
       "      <td>2.595045</td>\n",
       "      <td>13.397192</td>\n",
       "    </tr>\n",
       "    <tr>\n",
       "      <th>person</th>\n",
       "      <td>2.447511</td>\n",
       "      <td>11.559537</td>\n",
       "    </tr>\n",
       "    <tr>\n",
       "      <th>aristotle</th>\n",
       "      <td>2.403929</td>\n",
       "      <td>11.066567</td>\n",
       "    </tr>\n",
       "    <tr>\n",
       "      <th>kant</th>\n",
       "      <td>2.282188</td>\n",
       "      <td>9.798097</td>\n",
       "    </tr>\n",
       "    <tr>\n",
       "      <th>view</th>\n",
       "      <td>2.224052</td>\n",
       "      <td>9.244717</td>\n",
       "    </tr>\n",
       "    <tr>\n",
       "      <th>value</th>\n",
       "      <td>2.214941</td>\n",
       "      <td>9.160870</td>\n",
       "    </tr>\n",
       "  </tbody>\n",
       "</table>\n",
       "</div>"
      ],
      "text/plain": [
       "                   coef      log_odds\n",
       "word                                 \n",
       "philosophy     9.607795  14880.318821\n",
       "philosopher    5.744352    312.420977\n",
       "argument       5.659922    287.126206\n",
       "philosophical  4.662506    105.901179\n",
       "moral          3.637018     37.978407\n",
       "question       3.359590     28.777401\n",
       "read           3.259728     26.042452\n",
       "example        3.215845     24.924343\n",
       "say            3.203940     24.629381\n",
       "theory         3.146232     23.248301\n",
       "logic          2.943301     18.978386\n",
       "mean           2.876624     17.754232\n",
       "ethic          2.837960     17.080891\n",
       "nietzsche      2.664929     14.366935\n",
       "ethical        2.595045     13.397192\n",
       "person         2.447511     11.559537\n",
       "aristotle      2.403929     11.066567\n",
       "kant           2.282188      9.798097\n",
       "view           2.224052      9.244717\n",
       "value          2.214941      9.160870"
      ]
     },
     "execution_count": 510,
     "metadata": {},
     "output_type": "execute_result"
    }
   ],
   "source": [
    "philosophy_features = []\n",
    "\n",
    "\n",
    "for c,w in word_features[-20:]:\n",
    "    features = {}\n",
    "    features['word'] = w\n",
    "    features['coef'] = c\n",
    "    philosophy_features.append(features)\n",
    "\n",
    "askphilosophy_top20 = pd.DataFrame(philosophy_features)\n",
    "askphilosophy_top20 = askphilosophy_top20.sort_values(by='coef',ascending=False).set_index('word')\n",
    "askphilosophy_top20['log_odds'] = askphilosophy_top20['coef'].apply(np.exp)\n",
    "askphilosophy_top20"
   ]
  },
  {
   "cell_type": "code",
   "execution_count": 529,
   "metadata": {},
   "outputs": [
    {
     "data": {
      "image/png": "[encoded data removed]",
      "text/plain": [
       "<Figure size 1080x576 with 1 Axes>"
      ]
     },
     "metadata": {
      "needs_background": "light"
     },
     "output_type": "display_data"
    }
   ],
   "source": [
    "plt.figure(figsize=(15,8))\n",
    "sns.barplot(data = askphilosophy_top20,\n",
    "            y=askphilosophy_top20.index,\n",
    "            x=askphilosophy_top20['coef'],\n",
    "            orient='h',\n",
    "            palette='viridis')\n",
    "\n",
    "plt.ylabel('Word')\n",
    "plt.xlabel('Coeffiecent')\n",
    "plt.title('(/r/Askphilosophy) Top 20 Feature Importance');\n",
    "plt.savefig('./plots/askphilosophy_top20.jpeg',dpi=300, bbox_inches = \"tight\")"
   ]
  },
  {
   "cell_type": "markdown",
   "metadata": {},
   "source": [
    "## Psychonaut words"
   ]
  },
  {
   "cell_type": "code",
   "execution_count": 511,
   "metadata": {},
   "outputs": [
    {
     "data": {
      "text/html": [
       "<div>\n",
       "<style scoped>\n",
       "    .dataframe tbody tr th:only-of-type {\n",
       "        vertical-align: middle;\n",
       "    }\n",
       "\n",
       "    .dataframe tbody tr th {\n",
       "        vertical-align: top;\n",
       "    }\n",
       "\n",
       "    .dataframe thead th {\n",
       "        text-align: right;\n",
       "    }\n",
       "</style>\n",
       "<table border=\"1\" class=\"dataframe\">\n",
       "  <thead>\n",
       "    <tr style=\"text-align: right;\">\n",
       "      <th></th>\n",
       "      <th>coef</th>\n",
       "      <th>log_odds</th>\n",
       "    </tr>\n",
       "    <tr>\n",
       "      <th>word</th>\n",
       "      <th></th>\n",
       "      <th></th>\n",
       "    </tr>\n",
       "  </thead>\n",
       "  <tbody>\n",
       "    <tr>\n",
       "      <th>trip</th>\n",
       "      <td>-8.831131</td>\n",
       "      <td>0.000146</td>\n",
       "    </tr>\n",
       "    <tr>\n",
       "      <th>psychedelics</th>\n",
       "      <td>-6.987996</td>\n",
       "      <td>0.000923</td>\n",
       "    </tr>\n",
       "    <tr>\n",
       "      <th>psychedelic</th>\n",
       "      <td>-5.029007</td>\n",
       "      <td>0.006545</td>\n",
       "    </tr>\n",
       "    <tr>\n",
       "      <th>lsd</th>\n",
       "      <td>-4.796542</td>\n",
       "      <td>0.008258</td>\n",
       "    </tr>\n",
       "    <tr>\n",
       "      <th>dmt</th>\n",
       "      <td>-4.486111</td>\n",
       "      <td>0.011264</td>\n",
       "    </tr>\n",
       "    <tr>\n",
       "      <th>shrooms</th>\n",
       "      <td>-4.434908</td>\n",
       "      <td>0.011856</td>\n",
       "    </tr>\n",
       "    <tr>\n",
       "      <th>experience</th>\n",
       "      <td>-4.417880</td>\n",
       "      <td>0.012060</td>\n",
       "    </tr>\n",
       "    <tr>\n",
       "      <th>mushroom</th>\n",
       "      <td>-4.348023</td>\n",
       "      <td>0.012932</td>\n",
       "    </tr>\n",
       "    <tr>\n",
       "      <th>ego</th>\n",
       "      <td>-4.287755</td>\n",
       "      <td>0.013736</td>\n",
       "    </tr>\n",
       "    <tr>\n",
       "      <th>drug</th>\n",
       "      <td>-3.561683</td>\n",
       "      <td>0.028391</td>\n",
       "    </tr>\n",
       "    <tr>\n",
       "      <th>psychonaut</th>\n",
       "      <td>-3.470800</td>\n",
       "      <td>0.031092</td>\n",
       "    </tr>\n",
       "    <tr>\n",
       "      <th>psychonauts</th>\n",
       "      <td>-3.442473</td>\n",
       "      <td>0.031985</td>\n",
       "    </tr>\n",
       "    <tr>\n",
       "      <th>dose</th>\n",
       "      <td>-3.152498</td>\n",
       "      <td>0.042745</td>\n",
       "    </tr>\n",
       "    <tr>\n",
       "      <th>feel</th>\n",
       "      <td>-3.050171</td>\n",
       "      <td>0.047351</td>\n",
       "    </tr>\n",
       "    <tr>\n",
       "      <th>just</th>\n",
       "      <td>-2.861659</td>\n",
       "      <td>0.057174</td>\n",
       "    </tr>\n",
       "    <tr>\n",
       "      <th>acid</th>\n",
       "      <td>-2.720528</td>\n",
       "      <td>0.065840</td>\n",
       "    </tr>\n",
       "    <tr>\n",
       "      <th>love</th>\n",
       "      <td>-2.644842</td>\n",
       "      <td>0.071017</td>\n",
       "    </tr>\n",
       "    <tr>\n",
       "      <th>psilocybin</th>\n",
       "      <td>-2.608243</td>\n",
       "      <td>0.073664</td>\n",
       "    </tr>\n",
       "    <tr>\n",
       "      <th>weed</th>\n",
       "      <td>-2.554633</td>\n",
       "      <td>0.077721</td>\n",
       "    </tr>\n",
       "    <tr>\n",
       "      <th>try</th>\n",
       "      <td>-2.444479</td>\n",
       "      <td>0.086771</td>\n",
       "    </tr>\n",
       "  </tbody>\n",
       "</table>\n",
       "</div>"
      ],
      "text/plain": [
       "                  coef  log_odds\n",
       "word                            \n",
       "trip         -8.831131  0.000146\n",
       "psychedelics -6.987996  0.000923\n",
       "psychedelic  -5.029007  0.006545\n",
       "lsd          -4.796542  0.008258\n",
       "dmt          -4.486111  0.011264\n",
       "shrooms      -4.434908  0.011856\n",
       "experience   -4.417880  0.012060\n",
       "mushroom     -4.348023  0.012932\n",
       "ego          -4.287755  0.013736\n",
       "drug         -3.561683  0.028391\n",
       "psychonaut   -3.470800  0.031092\n",
       "psychonauts  -3.442473  0.031985\n",
       "dose         -3.152498  0.042745\n",
       "feel         -3.050171  0.047351\n",
       "just         -2.861659  0.057174\n",
       "acid         -2.720528  0.065840\n",
       "love         -2.644842  0.071017\n",
       "psilocybin   -2.608243  0.073664\n",
       "weed         -2.554633  0.077721\n",
       "try          -2.444479  0.086771"
      ]
     },
     "execution_count": 511,
     "metadata": {},
     "output_type": "execute_result"
    }
   ],
   "source": [
    "psychonaut_features = []\n",
    "\n",
    "for w,c in word_features[:20]:\n",
    "    features = {}\n",
    "    features['word'] = c\n",
    "    features['coef'] = w\n",
    "    sychonaut.append(features)\n",
    "    \n",
    "psychonaut_top20 = pd.DataFrame(psychonaut_features).set_index('word')\n",
    "psychonaut_top20['log_odds'] = psychonaut_top20['coef'].apply(np.exp)\n",
    "psychonaut_top20"
   ]
  },
  {
   "cell_type": "code",
   "execution_count": 528,
   "metadata": {},
   "outputs": [
    {
     "data": {
      "image/png": "[encoded data removed]",
      "text/plain": [
       "<Figure size 1080x576 with 1 Axes>"
      ]
     },
     "metadata": {
      "needs_background": "light"
     },
     "output_type": "display_data"
    }
   ],
   "source": [
    "plt.figure(figsize=(15,8))\n",
    "sns.barplot(data = psychonaut_top20,\n",
    "            y=psychonaut_top20.index,\n",
    "            x=psychonaut_top20['coef'],\n",
    "            orient='h',\n",
    "            palette='viridis')\n",
    "\n",
    "plt.ylabel('Word')\n",
    "plt.xlabel('Coeffiecent')\n",
    "plt.title('(/r/psychonaut) Top 20 Feature Importance');\n",
    "\n",
    "plt.savefig('./plots/psychonaut_top20.jpeg',dpi=300, bbox_inches = \"tight\")"
   ]
  },
  {
   "cell_type": "markdown",
   "metadata": {},
   "source": []
  }
 ],
 "metadata": {
  "kernelspec": {
   "display_name": "Python 3",
   "language": "python",
   "name": "python3"
  },
  "language_info": {
   "codemirror_mode": {
    "name": "ipython",
    "version": 3
   },
   "file_extension": ".py",
   "mimetype": "text/x-python",
   "name": "python",
   "nbconvert_exporter": "python",
   "pygments_lexer": "ipython3",
   "version": "3.8.5"
  }
 },
 "nbformat": 4,
 "nbformat_minor": 4
}
